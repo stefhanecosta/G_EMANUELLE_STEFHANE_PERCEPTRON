{
 "cells": [
  {
   "cell_type": "markdown",
   "id": "c267ed06",
   "metadata": {},
   "source": [
    "## Introdução e Estrutura Básica do Perceptron\n",
    "\n",
    "O Perceptron foi o primeiro neurônio artificial criado, sendo o precursor das redes neurais artificiais. Foi desenvolvido por Frank Rosenblatt, em 1958.  \n",
    "A proposta do Perceptron era atuar com o reconhecimento de padrões, empregando o uso de pesos e de outras características que foram inseridas nas redes neurais atuais.  \n",
    "\n",
    "A solução de Rosenblatt apresentava apenas uma camada e classificava os valores de entrada entre os pertencentes a uma das duas classes cadastradas.  \n",
    "O Perceptron pode ser entendido como um modelo simples de neurônio artificial que realiza decisões baseadas em múltiplas entradas.\n",
    "\n",
    "---\n",
    "\n",
    "## Estrutura Básica do Perceptron \n",
    "\n",
    "Entradas (xi): Os valores numéricos de entrada correspondem às características, são os valores que alimentam o neurônio. \n",
    "Pesos (wi): Cada característica tem um peso atribuído; isso determina sua importância. \n",
    "Saída (y): É calculada usando entradas e pesos. A saída é binária (1,0) ou um valor em um intervalo contínuo.\n",
    "Bias (b): Valor constante adicionado ao somatório para ajustar o resultado.\n",
    "Somatório: Combina a entrada(xi) e os pesos(wi):\n",
    "<p align=\"center\">\n",
    "<img src=\"imagens/somatorio.png\" width=\"400\">\n",
    "</p>\n",
    "<p align=\"center\"><em>Figura 1: Fórmula do somatório.</em></p>\n",
    "Função de ativação: Transforma o resultado 𝑢 em uma saída binária (0 ou 1) com a função degrau unitário:\n",
    "\n",
    "<p align=\"center\">\n",
    "<img src=\"imagens/funcao_atv.png\" width=\"400\">\n",
    "</p>\n",
    "<p align=\"center\"><em>Figura 2: Função degrau unitário.</em></p>\n",
    "\n",
    "Suponha que temos três entradas: `x₁`, `x₂` e `x₃`. Cada entrada é multiplicada por um peso associado: `w₁`, `w₂` e `w₃`. Os pesos determinam a importância de cada entrada no processo de decisão.\n",
    "\n",
    "<p align=\"center\">\n",
    "<img src=\"imagens/estrutura.png\" width=\"400\">\n",
    "</p>\n",
    "<p align=\"center\"><em>Figura 3: Estrutura do perceptron.</em></p>\n",
    "\n",
    "Além dessas entradas, o Perceptron também inclui uma entrada extra chamada bias, que tem valor fixo (geralmente 1) e também possui um peso associado `w_b`. O bias funciona como um ajuste fino, permitindo que o modelo tenha mais flexibilidade para aprender padrões nos dados.\n",
    "O resultado desta soma ponderada, representada por `s`, alimenta uma unção de ativação que transforma esse valor em uma saída final, `y`.\n",
    "\n",
    "No Perceptron clássico, essa função de ativação é uma função degrau, que funciona da seguinte forma:\n",
    "\n",
    "- Se `s ≥ 0`: o neurônio é ativado → `y = 1`\n",
    "- Se `s < 0`: o neurônio permanece desativado → `y = 0`\n",
    "\n",
    "## Implementação do Perceptron\n",
    "\n",
    "Código manual implementa a operação básica do Perceptron, onde:  \n",
    "• u é o valor intermediário antes da ativação.  \n",
    "• wi são os pesos.  \n",
    "• xi são as entradas.  \n",
    "• b é o bias (viés).\n",
    "\n",
    "\n",
    "\n"
   ]
  },
  {
   "cell_type": "code",
   "execution_count": 1,
   "id": "153557cd",
   "metadata": {},
   "outputs": [
    {
     "name": "stdout",
     "output_type": "stream",
     "text": [
      "Valor de u (pré-ativação): 0.5\n",
      "Saída do perceptron (y): 1\n"
     ]
    }
   ],
   "source": [
    "# Código que implementa a operação básica do Perceptron:\n",
    "x = [0.0, 0.0, 0.0]\n",
    "w = [1.0, 1.0, 1.0]\n",
    "b = 0.5                \n",
    "u = 0  # Inicializando \n",
    "\n",
    "for i in range(len(x)):\n",
    "    produto = x[i] * w[i]\n",
    "    u += produto\n",
    "\n",
    "# Soma do bias\n",
    "u += b\n",
    "\n",
    "# Função de ativação (função degrau)\n",
    "if u >= 0:\n",
    "    y = 1\n",
    "else:\n",
    "    y = 0\n",
    "\n",
    "print(\"Valor de u (pré-ativação):\", u)\n",
    "print(\"Saída do perceptron (y):\", y)\n",
    "\n",
    "\n"
   ]
  },
  {
   "cell_type": "markdown",
   "id": "64d3adee",
   "metadata": {},
   "source": [
    "## 2. Explicação do cálculo Matemático do Perceptron\n",
    "\n",
    "O código acima implementa a operação básica do Perceptron realiza a **soma ponderada das entradas** com seus respectivos pesos, e realiza a soma desse valor com o bias. A fórmula geral para o cálculo da entrada líquida (u) é:\n",
    "\n",
    "\\[\n",
    "u = x_1 w_1 + x_2 w_2 + \\cdots + x_n w_n + b\n",
    "\\]\n",
    "\n",
    "Ou, em notação de somatório, como mostrado na imagem 1.\n",
    "\n",
    "No exemplo realizado, foram adicionados valores para entradas, pesos e bias.\n",
    "\n",
    "- Entradas:  x = [0.0, 0.0, 0.0] \n",
    "- Pesos: w = [1.0, 1.0, 1.0] \n",
    "- Bias: b = 0.5 \n",
    "\n",
    "A multiplicação dos valores ocorre elemento a elemento,temos então:\n",
    "\n",
    "x₁ ⋅ w₁ = 0.0 ⋅ 1.0 = 0.0  \n",
    "x₂ ⋅ w₂ = 0.0 ⋅ 1.0 = 0.0  \n",
    "x₃ ⋅ w₃ = 0.0 ⋅ 1.0 = 0.0\n",
    "\n",
    "u = 0.0 + 0.0 + 0.0 + 0.5 = 0.5\n",
    "\n",
    "Esse valor \\( u \\) é então passado para a **função de ativação**, que decide a saída do neurônio (0 ou 1).\n",
    "No exemplo, a função utilizada foi a função degrau unitário, se o valor de 𝑢 for maior ou igual a zero, a saída será 1, caso contrário, a saída será 0."
   ]
  }
 ],
 "metadata": {
  "kernelspec": {
   "display_name": "Python 3",
   "language": "python",
   "name": "python3"
  },
  "language_info": {
   "codemirror_mode": {
    "name": "ipython",
    "version": 3
   },
   "file_extension": ".py",
   "mimetype": "text/x-python",
   "name": "python",
   "nbconvert_exporter": "python",
   "pygments_lexer": "ipython3",
   "version": "3.10.6"
  }
 },
 "nbformat": 4,
 "nbformat_minor": 5
}
